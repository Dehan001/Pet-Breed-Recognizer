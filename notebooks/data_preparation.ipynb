{
  "nbformat": 4,
  "nbformat_minor": 0,
  "metadata": {
    "colab": {
      "provenance": []
    },
    "kernelspec": {
      "name": "python3",
      "display_name": "Python 3"
    },
    "language_info": {
      "name": "python"
    }
  },
  "cells": [
    {
      "cell_type": "markdown",
      "source": [
        "## Pet Breed Recognizer\n",
        "\n",
        "I am working with different types of pets, focusing on six of the most common pets, including dogs, cats, rabbits, hamsters, and fish. The goal of this project is to classify 30 different types of pets common around the world. The types are as follows:\n",
        "\n",
        "### Dogs:\n",
        "1. Labrador Retriever\n",
        "2. German Shepherd\n",
        "3. Bulldog\n",
        "4. Poodle\n",
        "5. Golden Retriever\n",
        "\n",
        "### Cats:\n",
        "6. Persian Cat\n",
        "7. Siamese Cat\n",
        "8. Maine Coon\n",
        "9. Bengal Cat\n",
        "10. Sphynx Cat\n",
        "\n",
        "<!-- ### Rabbits:\n",
        "11. Holland Lop\n",
        "12. Mini Rex\n",
        "13. Netherland Dwarf\n",
        "14. Lionhead Rabbit\n",
        "15. Flemish Giant -->\n",
        "\n",
        "### Hamsters:\n",
        "11. Syrian Hamster\n",
        "12. Campbell's Dwarf Hamster\n",
        "13. Roborovski Hamster\n",
        "14. Winter White Dwarf Hamster\n",
        "15. Chinese Hamster\n",
        "\n",
        "### Fish:\n",
        "16. Betta Fish\n",
        "17. Goldfish\n",
        "18. Guppy\n",
        "19. Angelfish\n",
        "20. Neon Tetra\n",
        "\n",
        "### Birds:\n",
        "21. Parakeet (Budgie)\n",
        "22. Cockatiel\n",
        "23. African Grey Parrot\n",
        "24. Lovebird\n",
        "25. Canary\n"
      ],
      "metadata": {
        "id": "xM2IfX2U6sIV"
      }
    },
    {
      "cell_type": "markdown",
      "source": [
        "\n",
        "# Setting Up Necessary Things"
      ],
      "metadata": {
        "id": "HB6V7_na-KXm"
      }
    },
    {
      "cell_type": "code",
      "source": [
        "%reload_ext autoreload\n",
        "%autoreload 2\n",
        "%matplotlib inline"
      ],
      "metadata": {
        "id": "Ds4C03vEPRdJ"
      },
      "execution_count": null,
      "outputs": []
    },
    {
      "cell_type": "code",
      "source": [
        "!pip install -Uqq fastai fastbook nbdev"
      ],
      "metadata": {
        "id": "G-ajFxlYPZkF"
      },
      "execution_count": null,
      "outputs": []
    },
    {
      "cell_type": "code",
      "source": [
        "from fastai import *\n",
        "from fastbook import *\n",
        "from fastai.vision.all import *"
      ],
      "metadata": {
        "id": "svwgfYzbPiYo"
      },
      "execution_count": null,
      "outputs": []
    },
    {
      "cell_type": "code",
      "source": [
        "from google.colab import drive\n",
        "drive.mount('/content/drive')"
      ],
      "metadata": {
        "colab": {
          "base_uri": "https://localhost:8080/"
        },
        "id": "IjkJETFLPqiC",
        "outputId": "1f8054d5-7cad-4bf5-e6ad-9e23bf0be22e"
      },
      "execution_count": null,
      "outputs": [
        {
          "output_type": "stream",
          "name": "stdout",
          "text": [
            "Drive already mounted at /content/drive; to attempt to forcibly remount, call drive.mount(\"/content/drive\", force_remount=True).\n"
          ]
        }
      ]
    },
    {
      "cell_type": "code",
      "source": [
        "%cd /content/drive/MyDrive/Pet Breed Recognizer"
      ],
      "metadata": {
        "colab": {
          "base_uri": "https://localhost:8080/"
        },
        "id": "2rO5edEO-jmK",
        "outputId": "66e3f85f-7ac9-49d0-949c-cc7bce59679f"
      },
      "execution_count": null,
      "outputs": [
        {
          "output_type": "stream",
          "name": "stdout",
          "text": [
            "/content/drive/MyDrive/Pet Breed Recognizer\n"
          ]
        }
      ]
    },
    {
      "cell_type": "markdown",
      "source": [
        "# Download Images from Browser"
      ],
      "metadata": {
        "id": "s61r3KNB-7_k"
      }
    },
    {
      "cell_type": "code",
      "source": [
        "pet_breeds = [\n",
        "    \"labrador retriever dog breed\",\n",
        "    \"german shepherd dog breed\",\n",
        "    \"bulldog dog breed\",\n",
        "    \"poodle dog breed\",\n",
        "    \"golden retriever dog breed\",\n",
        "    \"persian cat breed\",\n",
        "    \"siamese cat breed\",\n",
        "    \"maine coon cat breed\",\n",
        "    \"bengal cat breed\",\n",
        "    \"sphynx cat breed\",\n",
        "    \"syrian hamster breed\",\n",
        "    \"campbell's dwarf hamster breed\",\n",
        "    \"roborovski hamster breed\",\n",
        "    \"winter white dwarf hamster breed\",\n",
        "    \"chinese hamster breed\",\n",
        "    \"betta fish breed\",\n",
        "    \"goldfish breed\",\n",
        "    \"guppy fish breed\",\n",
        "    \"angelfish breed\",\n",
        "    \"neon tetra fish breed\",\n",
        "    \"parakeet bird breed\",\n",
        "    \"cockatiel bird breed\",\n",
        "    \"african grey parrot bird breed\",\n",
        "    \"lovebird breed\",\n",
        "    \"canary bird breed\"\n",
        "]\n",
        "\n",
        "length_of_pet_breeds = len(pet_breeds)\n",
        "print(length_of_pet_breeds)\n"
      ],
      "metadata": {
        "colab": {
          "base_uri": "https://localhost:8080/"
        },
        "id": "gDTq7Kw9JXt7",
        "outputId": "2c51b03f-09ba-4e28-f1c2-2d39554608e9"
      },
      "execution_count": null,
      "outputs": [
        {
          "output_type": "stream",
          "name": "stdout",
          "text": [
            "25\n"
          ]
        }
      ]
    },
    {
      "cell_type": "code",
      "source": [
        "images = search_images_ddg(pet_breeds[0])\n",
        "f\"No of Images => {len(images)} -- One Image URL => {images[0]}\""
      ],
      "metadata": {
        "colab": {
          "base_uri": "https://localhost:8080/",
          "height": 53
        },
        "id": "Dp48KbweI8d-",
        "outputId": "a1409f00-a4dc-4b3e-f176-8737ffb9508a"
      },
      "execution_count": null,
      "outputs": [
        {
          "output_type": "execute_result",
          "data": {
            "text/plain": [
              "'No of Images => 200 -- One Image URL => https://images.saymedia-content.com/.image/t_share/MTc0OTY4MTUzMjkyNDE2OTky/differences-between-labrador-retrievers-and-golden-retrievers.jpg'"
            ],
            "application/vnd.google.colaboratory.intrinsic+json": {
              "type": "string"
            }
          },
          "metadata": {},
          "execution_count": 38
        }
      ]
    },
    {
      "cell_type": "code",
      "source": [
        "dest = \"german shepherd dog breed.jpg\"\n",
        "download_url(images[0], dest, show_progress=False)"
      ],
      "metadata": {
        "colab": {
          "base_uri": "https://localhost:8080/"
        },
        "id": "yrXHj3ZUKGNw",
        "outputId": "76d1d4e9-32cf-494d-e1af-1159ece94a07"
      },
      "execution_count": null,
      "outputs": [
        {
          "output_type": "execute_result",
          "data": {
            "text/plain": [
              "Path('german shepherd dog breed.jpg')"
            ]
          },
          "metadata": {},
          "execution_count": 40
        }
      ]
    },
    {
      "cell_type": "code",
      "source": [
        "image = Image.open(dest)\n",
        "image.to_thumb(128, 128)"
      ],
      "metadata": {
        "colab": {
          "base_uri": "https://localhost:8080/",
          "height": 131
        },
        "id": "IaYJtJvuKfNl",
        "outputId": "7b73cf5b-2242-49d0-f1cf-0a8d9544296d"
      },
      "execution_count": null,
      "outputs": [
        {
          "output_type": "execute_result",
          "data": {
            "text/plain": [
              "<PIL.Image.Image image mode=RGB size=128x114>"
            ],
            "image/png": "[encoded data removed]",
            "image/jpeg": "[encoded data removed]"
          },
          "metadata": {},
          "execution_count": 41
        }
      ]
    },
    {
      "cell_type": "markdown",
      "source": [
        "## Combine all of them"
      ],
      "metadata": {
        "id": "qikuAgT_MBGU"
      }
    },
    {
      "cell_type": "code",
      "source": [
        "data_path = \"data\"\n",
        "if not os.path.exists(data_path):\n",
        "  os.mkdir(data_path)\n",
        "\n",
        "for pet_breed in pet_breeds:\n",
        "\n",
        "  dest = f\"{data_path}/{pet_breed}\"\n",
        "  if not os.path.exists(dest):\n",
        "    os.mkdir(dest)\n",
        "\n",
        "  try:\n",
        "    cap_image_urls = search_images_ddg(pet_breed)\n",
        "    download_images(dest, urls = cap_image_urls)\n",
        "\n",
        "  except:\n",
        "    continue"
      ],
      "metadata": {
        "id": "HlRS-niOMHQY"
      },
      "execution_count": null,
      "outputs": []
    },
    {
      "cell_type": "code",
      "source": [
        "image_counts = get_image_files(data_path)\n",
        "image_counts"
      ],
      "metadata": {
        "colab": {
          "base_uri": "https://localhost:8080/"
        },
        "id": "fEyLNTuCNwld",
        "outputId": "ed775f0d-838d-49b2-c5d4-bb7063b0701a"
      },
      "execution_count": null,
      "outputs": [
        {
          "output_type": "execute_result",
          "data": {
            "text/plain": [
              "(#4660) [Path('data/labrador retriever dog breed/0363ac19-fac2-46de-899e-eebd740fe7b5.jpg'),Path('data/labrador retriever dog breed/d1d8bce3-0cfe-403a-bd74-09e122ae92c5.jpg'),Path('data/labrador retriever dog breed/be956bda-04b4-4262-a54a-14ae687c650c.jpg'),Path('data/labrador retriever dog breed/0f829735-0786-40b2-81f4-193cf2e7ffae.jpg'),Path('data/labrador retriever dog breed/2ba00cd0-3a57-4861-a991-27188cdb09bf.jpg'),Path('data/labrador retriever dog breed/820cce19-f517-43a6-80b8-1cdec069a94a.jpg'),Path('data/labrador retriever dog breed/2e338c49-357b-4095-a5c0-553f3fb0ea30.jpg'),Path('data/labrador retriever dog breed/1d369f37-8756-4cd9-8481-574873abe4fc.jpg'),Path('data/labrador retriever dog breed/b0ec2085-b130-4b18-a8ff-bf5fb0ae559d.jpg'),Path('data/labrador retriever dog breed/70b78779-9f2d-412c-95bb-b86eb1435571.jpg')...]"
            ]
          },
          "metadata": {},
          "execution_count": 43
        }
      ]
    },
    {
      "cell_type": "code",
      "source": [
        "failed = verify_images(image_counts)\n",
        "failed"
      ],
      "metadata": {
        "colab": {
          "base_uri": "https://localhost:8080/"
        },
        "id": "IH9uM3i2OuH-",
        "outputId": "650cf216-d251-4de4-cb67-08de352df7d2"
      },
      "execution_count": null,
      "outputs": [
        {
          "output_type": "stream",
          "name": "stderr",
          "text": [
            "/usr/local/lib/python3.10/dist-packages/PIL/TiffImagePlugin.py:900: UserWarning: Corrupt EXIF data.  Expecting to read 4 bytes but only got 2. \n",
            "  warnings.warn(str(msg))\n"
          ]
        },
        {
          "output_type": "execute_result",
          "data": {
            "text/plain": [
              "(#148) [Path('data/labrador retriever dog breed/0f829735-0786-40b2-81f4-193cf2e7ffae.jpg'),Path('data/labrador retriever dog breed/b0ec2085-b130-4b18-a8ff-bf5fb0ae559d.jpg'),Path('data/labrador retriever dog breed/184a3071-1f75-4b78-869a-df0bd2ed9209.jpg'),Path('data/labrador retriever dog breed/00f18bfc-f610-4c9f-9eb4-9bc9928e7282.jpg'),Path('data/labrador retriever dog breed/e1fbe29b-04ac-40fc-9997-79986ecbec45.jpg'),Path('data/labrador retriever dog breed/c0cda717-979e-4b6d-a03b-72629b5f8a81.jpg'),Path('data/labrador retriever dog breed/79e371e6-12c3-4d38-b0ad-24cd756e584d.jpg'),Path('data/german shepherd dog breed/c4095fd2-65ba-44c5-88e5-21a990927fb2.jpg'),Path('data/german shepherd dog breed/813b8125-bd5f-4a17-8193-d0ccdd0ea2ee.jpg'),Path('data/german shepherd dog breed/dd4cd98f-c924-4752-8480-996d6fd8f528.jpg')...]"
            ]
          },
          "metadata": {},
          "execution_count": 44
        }
      ]
    },
    {
      "cell_type": "code",
      "source": [
        "failed.map(Path.unlink)"
      ],
      "metadata": {
        "id": "Kac8V0lyP0uN",
        "colab": {
          "base_uri": "https://localhost:8080/"
        },
        "outputId": "171910e9-5c8e-4aab-88d7-40362385211f"
      },
      "execution_count": null,
      "outputs": [
        {
          "output_type": "execute_result",
          "data": {
            "text/plain": [
              "(#148) [None,None,None,None,None,None,None,None,None,None...]"
            ]
          },
          "metadata": {},
          "execution_count": 45
        }
      ]
    },
    {
      "cell_type": "code",
      "source": [],
      "metadata": {
        "id": "xsoX84WVyy1B"
      },
      "execution_count": null,
      "outputs": []
    }
  ]
}